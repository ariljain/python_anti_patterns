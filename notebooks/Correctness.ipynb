{
 "cells": [
  {
   "cell_type": "markdown",
   "metadata": {},
   "source": [
    "Accessing protected member from outside the class"
   ]
  },
  {
   "cell_type": "code",
   "execution_count": 2,
   "metadata": {},
   "outputs": [
    {
     "name": "stdout",
     "output_type": "stream",
     "text": [
      "Width: 5\n"
     ]
    }
   ],
   "source": [
    "# Anti-pattern\n",
    "class Rectangle:\n",
    "    def __init__(self, width, height):\n",
    "        self._width = width\n",
    "        self._height = height\n",
    "\n",
    "rect = Rectangle(5, 6)\n",
    "# directly accessing a protected member\n",
    "print('Width: {:d}'.format(rect._width))"
   ]
  },
  {
   "cell_type": "code",
   "execution_count": 3,
   "metadata": {},
   "outputs": [
    {
     "data": {
      "text/plain": [
       "'\\nIf you absolutely have to access a protected member from outside, make sure \\n1. accessing the member does not cause any side effect\\n2. refactor to create a public interface to access the protected member\\n'"
      ]
     },
     "execution_count": 3,
     "metadata": {},
     "output_type": "execute_result"
    }
   ],
   "source": [
    "# Best Practice\n",
    "\"\"\"\n",
    "If you absolutely have to access a protected member from outside, make sure \n",
    "1. accessing the member does not cause any side effect\n",
    "2. refactor to create a public interface to access the protected member\n",
    "\"\"\""
   ]
  },
  {
   "cell_type": "markdown",
   "metadata": {},
   "source": [
    "Assigning a lamdba expressionto a variable"
   ]
  },
  {
   "cell_type": "code",
   "execution_count": 5,
   "metadata": {},
   "outputs": [],
   "source": [
    "# Anti-pattern\n",
    "f = lambda x: 2*x"
   ]
  },
  {
   "cell_type": "code",
   "execution_count": 6,
   "metadata": {
    "collapsed": true
   },
   "outputs": [],
   "source": [
    "# Best Practice\n",
    "\"\"\"\n",
    "Use def for named expressions\n",
    "\"\"\"\n",
    "def f(x):\n",
    "    return 2*x"
   ]
  },
  {
   "cell_type": "markdown",
   "metadata": {},
   "source": [
    "Assigning to built-in function"
   ]
  },
  {
   "cell_type": "code",
   "execution_count": 7,
   "metadata": {},
   "outputs": [
    {
     "ename": "TypeError",
     "evalue": "'list' object is not callable",
     "output_type": "error",
     "traceback": [
      "\u001b[1;31m---------------------------------------------------------------------------\u001b[0m",
      "\u001b[1;31mTypeError\u001b[0m                                 Traceback (most recent call last)",
      "\u001b[1;32m<ipython-input-7-e0ac47ba3c5a>\u001b[0m in \u001b[0;36m<module>\u001b[1;34m()\u001b[0m\n\u001b[0;32m      5\u001b[0m \u001b[1;33m\u001b[0m\u001b[0m\n\u001b[0;32m      6\u001b[0m \u001b[1;31m# Because the built-in list function is now assigned a value, using built-in list function will cause an error\u001b[0m\u001b[1;33m\u001b[0m\u001b[1;33m\u001b[0m\u001b[0m\n\u001b[1;32m----> 7\u001b[1;33m \u001b[0mcars\u001b[0m \u001b[1;33m=\u001b[0m \u001b[0mlist\u001b[0m\u001b[1;33m(\u001b[0m\u001b[1;33m)\u001b[0m\u001b[1;33m\u001b[0m\u001b[0m\n\u001b[0m",
      "\u001b[1;31mTypeError\u001b[0m: 'list' object is not callable"
     ]
    }
   ],
   "source": [
    "# Anti-pattern\n",
    "# Unless there is a special resason one should not overwrite built-in functions\n",
    "# or assign values to a variable with the same name as a built-in functiion\n",
    "list = [1, 2, 3]\n",
    "\n",
    "# Because the built-in list function is now assigned a value, using built-in list function will cause an error\n",
    "cars = list()"
   ]
  },
  {
   "cell_type": "code",
   "execution_count": 8,
   "metadata": {},
   "outputs": [
    {
     "data": {
      "text/plain": [
       "'\\nUse variable names that do not interfere with the built-in function names\\n'"
      ]
     },
     "execution_count": 8,
     "metadata": {},
     "output_type": "execute_result"
    }
   ],
   "source": [
    "# Best Practice\n",
    "\"\"\"\n",
    "Use variable names that do not interfere with the built-in function names\n",
    "\"\"\""
   ]
  },
  {
   "cell_type": "markdown",
   "metadata": {},
   "source": [
    "Bad except clauses order"
   ]
  },
  {
   "cell_type": "code",
   "execution_count": 9,
   "metadata": {},
   "outputs": [
    {
     "name": "stdout",
     "output_type": "stream",
     "text": [
      "Exception\n"
     ]
    }
   ],
   "source": [
    "# Anti-pattern\n",
    "# Raising the parent exception clause before a child / more specific exception\n",
    "try:\n",
    "    5 / 0\n",
    "except Exception as e:\n",
    "    print('Exception')\n",
    "# uncreachable code\n",
    "except ZeroDivisionError as e:\n",
    "    print('ZeroDivisionError')"
   ]
  },
  {
   "cell_type": "code",
   "execution_count": 10,
   "metadata": {},
   "outputs": [
    {
     "name": "stdout",
     "output_type": "stream",
     "text": [
      "ZeroDivisionError\n"
     ]
    }
   ],
   "source": [
    "# Best pracice\n",
    "\"\"\"\n",
    "Move sub-class exception clause before ancestor clause\n",
    "\"\"\"\n",
    "try:\n",
    "    5 / 0\n",
    "except ZeroDivisionError as e:\n",
    "    print('ZeroDivisionError')\n",
    "except Exception as e:\n",
    "    print('Exception')"
   ]
  },
  {
   "cell_type": "markdown",
   "metadata": {},
   "source": [
    "Correct way of calling super() in Python 3"
   ]
  },
  {
   "cell_type": "code",
   "execution_count": 12,
   "metadata": {},
   "outputs": [
    {
     "name": "stdout",
     "output_type": "stream",
     "text": [
      "25\n"
     ]
    }
   ],
   "source": [
    "# In Python 3 the correct way to call super() is without arguments\n",
    "class Rectangle:\n",
    "    def __init__(self, width, height):\n",
    "        self.width = width\n",
    "        self.height = height\n",
    "        self.area = width * height\n",
    "\n",
    "class Square(Rectangle):\n",
    "    def __init__(self, length):\n",
    "        super().__init__(length, length)\n",
    "        # in python 2 it should be super(Square, self).__init__(length, length)\n",
    "\n",
    "s = Square(5)\n",
    "print(s.area)"
   ]
  },
  {
   "cell_type": "markdown",
   "metadata": {},
   "source": [
    "*else* clause on loop without *break* statement"
   ]
  },
  {
   "cell_type": "code",
   "execution_count": 13,
   "metadata": {},
   "outputs": [
    {
     "name": "stdout",
     "output_type": "stream",
     "text": [
      "The list contains the magic number\n",
      "The list does not contain any magic number\n"
     ]
    }
   ],
   "source": [
    "# The else clause of a loop is executed when the loop is empty\n",
    "# When a loop specifies no break statement, the else clause will always execute, \n",
    "# because the loop sequence will eventually become empty\n",
    "\n",
    "# Anti-pattern\n",
    "def contains_magic_number(number_list, magic_number):\n",
    "    for i in number_list:\n",
    "        if i == magic_number:\n",
    "            print(\"The list contains the magic number\")\n",
    "    else:\n",
    "        print(\"The list does not contain any magic number\")\n",
    "\n",
    "contains_magic_number(range(10), 5)"
   ]
  },
  {
   "cell_type": "code",
   "execution_count": 14,
   "metadata": {},
   "outputs": [
    {
     "name": "stdout",
     "output_type": "stream",
     "text": [
      "The list contains the magic number\n"
     ]
    }
   ],
   "source": [
    "# Best practice\n",
    "\"\"\"\n",
    "If the else cluase should not always execute after the loop,\n",
    "then add a break statement inside the loop\n",
    "\"\"\"\n",
    "def contains_magic_number(number_list, magic_number):\n",
    "    for i in number_list:\n",
    "        if i == magic_number:\n",
    "            print(\"The list contains the magic number\")\n",
    "            # adding the break statement\n",
    "            break\n",
    "    else:\n",
    "        print(\"The list does not contain any magic number\")\n",
    "\n",
    "contains_magic_number(range(10), 5)"
   ]
  },
  {
   "cell_type": "code",
   "execution_count": null,
   "metadata": {
    "collapsed": true
   },
   "outputs": [],
   "source": []
  }
 ],
 "metadata": {
  "kernelspec": {
   "display_name": "Python 3",
   "language": "python",
   "name": "python3"
  },
  "language_info": {
   "codemirror_mode": {
    "name": "ipython",
    "version": 3
   },
   "file_extension": ".py",
   "mimetype": "text/x-python",
   "name": "python",
   "nbconvert_exporter": "python",
   "pygments_lexer": "ipython3",
   "version": "3.5.3rc1"
  }
 },
 "nbformat": 4,
 "nbformat_minor": 2
}
